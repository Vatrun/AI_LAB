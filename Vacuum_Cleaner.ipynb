{
  "nbformat": 4,
  "nbformat_minor": 0,
  "metadata": {
    "colab": {
      "provenance": []
    },
    "kernelspec": {
      "name": "python3",
      "display_name": "Python 3"
    },
    "language_info": {
      "name": "python"
    }
  },
  "cells": [
    {
      "cell_type": "code",
      "execution_count": null,
      "metadata": {
        "colab": {
          "base_uri": "https://localhost:8080/"
        },
        "id": "WPN0S4TPEuEO",
        "outputId": "6a05cdbe-459d-4f42-f28c-be245ddf890a"
      },
      "outputs": [
        {
          "output_type": "stream",
          "name": "stdout",
          "text": [
            "Enter status of room 0 : 1\n",
            "Enter status of room 1 : 1\n",
            "Is room 0 still dirty : 0\n",
            "Room 0 cleaned\n",
            "Moving to room 1\n",
            "Is room 1 still dirty : 0\n",
            "Room 1 cleaned\n",
            "Moving to room 0\n",
            "All rooms are clean\n",
            "room status = [0, 0]\n",
            "Total cost: 2\n"
          ]
        }
      ],
      "source": [
        "room=[]\n",
        "cost=0\n",
        "def vacuum_cleaner(status, location):\n",
        "    global cost\n",
        "    if room[0] == 0 and room[1] == 0:\n",
        "        print('All rooms are clean')\n",
        "        return\n",
        "    if status == 1:\n",
        "        room[location]==0\n",
        "        cost+=1\n",
        "        room[location]=(int(input('Is room '+ str(location) +' still dirty : ')))\n",
        "\n",
        "        if(room[location]==1):\n",
        "          return vacuum_cleaner(room[location], location)\n",
        "        else:\n",
        "          print('Room ' + str(location) + ' cleaned')\n",
        "    location= 1 if location==0 else 0\n",
        "    print('Moving to room '+str(location))\n",
        "    return vacuum_cleaner(room[location], location)\n",
        "\n",
        "room.append(int(input('Enter status of room 0 : ')))\n",
        "room.append(int(input('Enter status of room 1 : ')))\n",
        "vacuum_cleaner(room[0], 0)\n",
        "print(\"room status = \"+str(room))\n",
        "print('Total cost: ' + str(cost))"
      ]
    },
    {
      "cell_type": "code",
      "source": [
        "cost =0\n",
        "def vacuum_world(state, location):\n",
        "  global cost\n",
        "  if(state['A']==0 and state['B']==0):\n",
        "    print('All rooms are clean')\n",
        "    return\n",
        "\n",
        "  if state[location]==1:\n",
        "    state[location]=0\n",
        "    cost+=1\n",
        "    state[location]=(int(input('Is room '+ str(location) +' still dirty : ')))\n",
        "\n",
        "    if state[location]==1:\n",
        "      return vacuum_world(state, location)\n",
        "    else:\n",
        "      print('Room ' + str(location) + ' cleaned')\n",
        "\n",
        "  next_location='B' if location=='A' else 'A'\n",
        "  if state[next_location]==0:\n",
        "    state[next_location]=(int(input('Is room '+ str(next_location) +' dirty : ')))\n",
        "  print('Moving to room '+str(next_location))\n",
        "  return vacuum_world(state, next_location)\n",
        "\n",
        "state={}\n",
        "state['A']=int(input('Enter status of room A : '))\n",
        "state['B']=int(input('Enter status of room B : '))\n",
        "location=input('Enter initial location of vacuum (A/B) : ')\n",
        "vacuum_world(state,location)\n",
        "print(\"Status = \"+str(state))\n",
        "print('Total cost: ' + str(cost))"
      ],
      "metadata": {
        "colab": {
          "base_uri": "https://localhost:8080/"
        },
        "id": "EdbCryGh9snN",
        "outputId": "8963d4c1-3406-45d3-850c-9a3313a6c046"
      },
      "execution_count": null,
      "outputs": [
        {
          "output_type": "stream",
          "name": "stdout",
          "text": [
            "Enter status of room A : 1\n",
            "Enter status of room B : 1\n",
            "Enter initial location of vacuum (A/B) : A\n",
            "Is room A still dirty : 0\n",
            "Room A cleaned\n",
            "Moving to room B\n",
            "Is room B still dirty : 0\n",
            "Room B cleaned\n",
            "Is room A dirty : 0\n",
            "Moving to room A\n",
            "All rooms are clean\n",
            "Status = {'A': 0, 'B': 0}\n",
            "Total cost: 2\n"
          ]
        }
      ]
    },
    {
      "cell_type": "code",
      "source": [],
      "metadata": {
        "id": "7zJI9KSxQmN0"
      },
      "execution_count": null,
      "outputs": []
    },
    {
      "cell_type": "code",
      "source": [],
      "metadata": {
        "id": "HVx3qXJgRnr2"
      },
      "execution_count": null,
      "outputs": []
    }
  ]
}