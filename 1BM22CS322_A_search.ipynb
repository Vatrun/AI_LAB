{
  "nbformat": 4,
  "nbformat_minor": 0,
  "metadata": {
    "colab": {
      "provenance": []
    },
    "kernelspec": {
      "name": "python3",
      "display_name": "Python 3"
    },
    "language_info": {
      "name": "python"
    }
  },
  "cells": [
    {
      "cell_type": "code",
      "execution_count": 3,
      "metadata": {
        "colab": {
          "base_uri": "https://localhost:8080/"
        },
        "id": "L-tY0M7qjWJz",
        "outputId": "95452350-43dc-4419-ec86-b1aefa17d708"
      },
      "outputs": [
        {
          "output_type": "stream",
          "name": "stdout",
          "text": [
            "No of queens: 4\n",
            "Solution for 4 queens:\n",
            "[2, 0, 3, 1]\n",
            "---------\n",
            "Varun Vinod (1BM22CS322)\n"
          ]
        }
      ],
      "source": [
        "import random\n",
        "\n",
        "def hill_climbing_n_queens(n):\n",
        "    board = generate_random_board(n)\n",
        "\n",
        "    while True:\n",
        "        current_cost = calculate_conflicts(board)\n",
        "        if current_cost == 0:\n",
        "            return board\n",
        "        next_board, next_cost = get_best_neighbor(board)\n",
        "        if next_cost >= current_cost:\n",
        "            board = generate_random_board(n)\n",
        "        else:\n",
        "\n",
        "            board = next_board\n",
        "\n",
        "def generate_random_board(n):\n",
        "\n",
        "    return [random.randint(0, n - 1) for _ in range(n)]\n",
        "\n",
        "def calculate_conflicts(board):\n",
        "\n",
        "    conflicts = 0\n",
        "    for i in range(len(board)):\n",
        "        for j in range(i + 1, len(board)):\n",
        "            if board[i] == board[j] or abs(board[i] - board[j]) == abs(i - j):\n",
        "                conflicts += 1\n",
        "    return conflicts\n",
        "\n",
        "def get_best_neighbor(board):\n",
        "    n = len(board)\n",
        "    best_board = board[:]\n",
        "    best_cost = calculate_conflicts(board)\n",
        "    for col in range(n):\n",
        "        original_row = board[col]\n",
        "        for row in range(n):\n",
        "            if row != original_row:\n",
        "                board[col] = row\n",
        "                cost = calculate_conflicts(board)\n",
        "\n",
        "                if cost < best_cost:\n",
        "                    best_cost = cost\n",
        "                    best_board = board[:]\n",
        "\n",
        "        board[col] = original_row\n",
        "\n",
        "    return best_board, best_cost\n",
        "\n",
        "n=int(input(\"No of queens: \"))\n",
        "solution = hill_climbing_n_queens(n)\n",
        "print(\"Solution for\", n, \"queens:\")\n",
        "print(solution)\n",
        "\n",
        "print(\"---------\")\n",
        "print(\"Varun Vinod (1BM22CS322)\")"
      ]
    }
  ]
}