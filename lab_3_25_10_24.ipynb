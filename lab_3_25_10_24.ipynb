{
  "nbformat": 4,
  "nbformat_minor": 0,
  "metadata": {
    "colab": {
      "provenance": []
    },
    "kernelspec": {
      "name": "python3",
      "display_name": "Python 3"
    },
    "language_info": {
      "name": "python"
    }
  },
  "cells": [
    {
      "cell_type": "code",
      "execution_count": 7,
      "metadata": {
        "colab": {
          "base_uri": "https://localhost:8080/"
        },
        "id": "kG97OlZEDfLJ",
        "outputId": "5569532c-15ba-4a5b-a859-7e87add2153f"
      },
      "outputs": [
        {
          "output_type": "stream",
          "name": "stdout",
          "text": [
            "[1, 2, 3, 4, 5, 6, 0, 7, 8]\n",
            "[1, 2, 3, 4, 5, 6, 7, 0, 8]\n",
            "[1, 2, 3, 4, 5, 6, 7, 8, 0]\n",
            "VARUN 1BM22CS322\n"
          ]
        }
      ],
      "source": [
        "#Missing tiles method\n",
        "import heapq\n",
        "\n",
        "class PuzzleState:\n",
        "    def __init__(self, board, g=0):\n",
        "        self.board = board\n",
        "        self.g = g\n",
        "        self.zero_pos = board.index(0)\n",
        "\n",
        "    def h(self):\n",
        "        return sum(1 for i in range(9) if self.board[i] != 0 and self.board[i] != i + 1)\n",
        "\n",
        "    def f(self):\n",
        "        return self.g + self.h()\n",
        "\n",
        "    def get_neighbors(self):\n",
        "        neighbors = []\n",
        "        x, y = divmod(self.zero_pos, 3)\n",
        "        directions = [(-1, 0), (1, 0), (0, -1), (0, 1)]  # Up, Down, Left, Right\n",
        "        for dx, dy in directions:\n",
        "            new_x, new_y = x + dx, y + dy\n",
        "            if 0 <= new_x < 3 and 0 <= new_y < 3:\n",
        "                new_zero_pos = new_x * 3 + new_y\n",
        "                new_board = self.board[:]\n",
        "                new_board[self.zero_pos], new_board[new_zero_pos] = new_board[new_zero_pos], new_board[self.zero_pos]\n",
        "                neighbors.append(PuzzleState(new_board, self.g + 1))\n",
        "        return neighbors\n",
        "\n",
        "def a_star(initial_state, goal_state):\n",
        "    open_set = []\n",
        "    heapq.heappush(open_set, (initial_state.f(), 0, initial_state))\n",
        "    came_from = {}\n",
        "    g_score = {tuple(initial_state.board): 0}\n",
        "\n",
        "    while open_set:\n",
        "        current_f, _, current = heapq.heappop(open_set)\n",
        "\n",
        "        if current.board == goal_state:\n",
        "            return reconstruct_path(came_from, current)\n",
        "\n",
        "        for neighbor in current.get_neighbors():\n",
        "            neighbor_tuple = tuple(neighbor.board)\n",
        "            tentative_g_score = g_score[tuple(current.board)] + 1\n",
        "\n",
        "            if neighbor_tuple not in g_score or tentative_g_score < g_score[neighbor_tuple]:\n",
        "                came_from[neighbor_tuple] = current\n",
        "                g_score[neighbor_tuple] = tentative_g_score\n",
        "                heapq.heappush(open_set, (neighbor.f(), neighbor.g, neighbor))  # Use neighbor.g as the tie-breaker\n",
        "\n",
        "    return None\n",
        "def reconstruct_path(came_from, current):\n",
        "    path = []\n",
        "    while current is not None:\n",
        "        path.append(current.board)\n",
        "        current = came_from.get(tuple(current.board), None)\n",
        "    return path[::-1]\n",
        "\n",
        "initial_state = PuzzleState([1, 2, 3, 4, 5, 6, 0, 7, 8])\n",
        "goal_state = [1, 2, 3, 4, 5, 6, 7, 8, 0]\n",
        "\n",
        "solution = a_star(initial_state, goal_state)\n",
        "\n",
        "if solution:\n",
        "    for step in solution:\n",
        "        print(step)\n",
        "else:\n",
        "    print(\"No solution found\")\n",
        "print(\"VARUN 1BM22CS322\")"
      ]
    },
    {
      "cell_type": "code",
      "source": [
        "#Manhattan Method\n",
        "import heapq\n",
        "\n",
        "class Node:\n",
        "    def __init__(self, position, parent=None):\n",
        "        self.position = position\n",
        "        self.parent = parent\n",
        "        self.g = 0  # Cost from start to this node\n",
        "        self.h = 0  # Heuristic cost from this node to target\n",
        "        self.f = 0  # Total cost\n",
        "\n",
        "    def __lt__(self, other):\n",
        "        return self.f < other.f\n",
        "\n",
        "def heuristic(a, b):\n",
        "    # Manhattan distance\n",
        "    return abs(a[0] - b[0]) + abs(a[1] - b[1])\n",
        "\n",
        "def astar(start, goal, grid):\n",
        "    open_list = []\n",
        "    closed_list = set()\n",
        "\n",
        "    start_node = Node(start)\n",
        "    goal_node = Node(goal)\n",
        "\n",
        "    heapq.heappush(open_list, start_node)\n",
        "\n",
        "    while open_list:\n",
        "        current_node = heapq.heappop(open_list)\n",
        "        closed_list.add(current_node.position)\n",
        "\n",
        "        # Goal check\n",
        "        if current_node.position == goal:\n",
        "            path = []\n",
        "            while current_node:\n",
        "                path.append(current_node.position)\n",
        "                current_node = current_node.parent\n",
        "            return path[::-1]  # Return reversed path\n",
        "\n",
        "        # Generate neighbors\n",
        "        neighbors = [\n",
        "            (current_node.position[0] + dx, current_node.position[1] + dy)\n",
        "            for dx, dy in [(-1, 0), (1, 0), (0, -1), (0, 1)]\n",
        "        ]\n",
        "\n",
        "        for next_position in neighbors:\n",
        "            # Check if within bounds and not a wall (assuming 0 is free space)\n",
        "            if (0 <= next_position[0] < len(grid) and\n",
        "                    0 <= next_position[1] < len(grid[0]) and\n",
        "                    grid[next_position[0]][next_position[1]] == 0):\n",
        "\n",
        "                if next_position in closed_list:\n",
        "                    continue\n",
        "\n",
        "                neighbor_node = Node(next_position, current_node)\n",
        "                neighbor_node.g = current_node.g + 1\n",
        "                neighbor_node.h = heuristic(next_position, goal)\n",
        "                neighbor_node.f = neighbor_node.g + neighbor_node.h\n",
        "\n",
        "                # Check if this neighbor is already in the open list\n",
        "                if any(neighbor.position == neighbor_node.position and neighbor.f <= neighbor_node.f for neighbor in open_list):\n",
        "                    continue\n",
        "\n",
        "                heapq.heappush(open_list, neighbor_node)\n",
        "\n",
        "    return []  # Return empty path if no path found\n",
        "\n",
        "# Example usage\n",
        "if __name__ == \"__main__\":\n",
        "    grid = [\n",
        "        [0, 0, 0, 0, 0],\n",
        "        [0, 1, 1, 1, 0],\n",
        "        [0, 0, 0, 0, 0],\n",
        "        [0, 1, 1, 0, 0],\n",
        "        [0, 0, 0, 0, 0]\n",
        "    ]\n",
        "\n",
        "    start = (0, 0)\n",
        "    goal = (4, 4)\n",
        "    path = astar(start, goal, grid)\n",
        "\n",
        "    print(\"Path from start to goal:\", path)\n",
        "    print(\"VARUN 1BM22CS322\")\n",
        "\n"
      ],
      "metadata": {
        "colab": {
          "base_uri": "https://localhost:8080/"
        },
        "id": "GWinf4FQEO3V",
        "outputId": "e03fe48c-63fc-4abd-c2cd-ecb1c4e53d49"
      },
      "execution_count": 8,
      "outputs": [
        {
          "output_type": "stream",
          "name": "stdout",
          "text": [
            "Path from start to goal: [(0, 0), (1, 0), (2, 0), (2, 1), (2, 2), (2, 3), (3, 3), (4, 3), (4, 4)]\n",
            "VARUN 1BM22CS322\n"
          ]
        }
      ]
    },
    {
      "cell_type": "code",
      "source": [],
      "metadata": {
        "id": "tr8yhjstXcxG"
      },
      "execution_count": null,
      "outputs": []
    }
  ]
}