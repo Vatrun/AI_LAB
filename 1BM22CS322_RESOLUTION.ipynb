{
  "nbformat": 4,
  "nbformat_minor": 0,
  "metadata": {
    "colab": {
      "provenance": []
    },
    "kernelspec": {
      "name": "python3",
      "display_name": "Python 3"
    },
    "language_info": {
      "name": "python"
    }
  },
  "cells": [
    {
      "cell_type": "code",
      "execution_count": 2,
      "metadata": {
        "colab": {
          "base_uri": "https://localhost:8080/"
        },
        "id": "L-tY0M7qjWJz",
        "outputId": "f985623e-0886-47e9-9d54-d3d4caa0b5a6"
      },
      "outputs": [
        {
          "output_type": "stream",
          "name": "stdout",
          "text": [
            "Enter the query: A\n",
            "Using Resolution to prove a query\n",
            "Is the query 'A' provable? Yes\n",
            "---------\n",
            "Varun Vinod (1BM22CS322)\n"
          ]
        }
      ],
      "source": [
        "# Example propositional logic statements in CNF\n",
        "kb = [\n",
        "    {\"¬B\", \"¬C\", \"A\"},  # ¬B ∨ ¬C ∨ A\n",
        "    {\"B\"},  # B\n",
        "    {\"¬D\", \"¬E\", \"C\"},  # ¬D ∨ ¬E ∨ C\n",
        "    {\"E\", \"F\"},  # E ∨ F\n",
        "    {\"D\"},  # D\n",
        "    {\"¬F\"},  # ¬F\n",
        "]\n",
        "\n",
        "# Negate the query: If the query is \"A\", we negate it to \"¬A\"\n",
        "def negate_query(query):\n",
        "    if \"¬\" in query:\n",
        "        return query.replace(\"¬\", \"\")  # If it's negated, remove the negation\n",
        "    else:\n",
        "        return f\"¬{query}\"  # Otherwise, add negation in front\n",
        "\n",
        "# Function to perform resolution on two clauses\n",
        "def resolve(clause1, clause2):\n",
        "    resolved_clauses = []\n",
        "\n",
        "    # Try to find complementary literals\n",
        "    for literal1 in clause1:\n",
        "        for literal2 in clause2:\n",
        "            # If literals are complementary (e.g., \"A\" and \"¬A\"), resolve them\n",
        "            if literal1 == f\"¬{literal2}\" or f\"¬{literal1}\" == literal2:\n",
        "                new_clause = (clause1 | clause2) - {literal1, literal2}\n",
        "                resolved_clauses.append(new_clause)\n",
        "\n",
        "    return resolved_clauses\n",
        "\n",
        "# Perform resolution-based proof\n",
        "def resolution(kb, query):\n",
        "    # Step 1: Negate the query and add it to the knowledge base\n",
        "    negated_query = negate_query(query)\n",
        "    kb.append({negated_query})\n",
        "\n",
        "    # Step 2: Initialize the set of clauses\n",
        "    new_clauses = set(frozenset(clause) for clause in kb)\n",
        "\n",
        "    while True:\n",
        "        resolved_this_round = set()\n",
        "        clauses_list = list(new_clauses)\n",
        "\n",
        "        # Try to resolve every pair of clauses\n",
        "        for i in range(len(clauses_list)):\n",
        "            for j in range(i + 1, len(clauses_list)):\n",
        "                clause1 = clauses_list[i]\n",
        "                clause2 = clauses_list[j]\n",
        "\n",
        "                # Apply resolution to the two clauses\n",
        "                resolved = resolve(clause1, clause2)\n",
        "                if frozenset() in resolved:\n",
        "                    return True  # Found an empty clause (contradiction), query is provable\n",
        "                resolved_this_round.update(resolved)\n",
        "\n",
        "        # If no new clauses were added, stop\n",
        "        if resolved_this_round.issubset(new_clauses):\n",
        "            return False  # No new clauses, query is not provable\n",
        "        # Add new resolved clauses to the set\n",
        "        new_clauses.update(resolved_this_round)\n",
        "\n",
        "# Query to prove: \"A\"\n",
        "query = input(\"Enter the query: \")\n",
        "result = resolution(kb, query)\n",
        "print(\"Using Resolution to prove a query\")\n",
        "print(f\"Is the query '{query}' provable? {'Yes' if result else 'No'}\")\n",
        "print(\"---------\")\n",
        "print(\"Varun Vinod (1BM22CS322)\")"
      ]
    }
  ]
}