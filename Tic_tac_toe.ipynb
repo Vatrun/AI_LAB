{
  "nbformat": 4,
  "nbformat_minor": 0,
  "metadata": {
    "colab": {
      "provenance": []
    },
    "kernelspec": {
      "name": "python3",
      "display_name": "Python 3"
    },
    "language_info": {
      "name": "python"
    }
  },
  "cells": [
    {
      "cell_type": "code",
      "execution_count": null,
      "metadata": {
        "colab": {
          "base_uri": "https://localhost:8080/"
        },
        "id": "bJLpMvdNAMGY",
        "outputId": "36922ef5-ab13-4a8c-af8e-edb85a38acc7"
      },
      "outputs": [
        {
          "output_type": "stream",
          "name": "stdout",
          "text": [
            "[['-' '-' '-']\n",
            " ['-' '-' '-']\n",
            " ['-' '-' '-']]\n",
            "Enter row: 0\n",
            "Enter column: 1\n",
            "[['-' 'X' '-']\n",
            " ['-' '-' '-']\n",
            " ['-' '-' '-']]\n",
            "Enter row: 0\n",
            "Enter column: 0\n",
            "[['O' 'X' '-']\n",
            " ['-' '-' '-']\n",
            " ['-' '-' '-']]\n",
            "Enter row: 1\n",
            "Enter column: 0\n",
            "[['O' 'X' '-']\n",
            " ['X' '-' '-']\n",
            " ['-' '-' '-']]\n",
            "Enter row: 1\n",
            "Enter column: 1\n",
            "[['O' 'X' '-']\n",
            " ['X' 'O' '-']\n",
            " ['-' '-' '-']]\n",
            "Enter row: 1\n",
            "Enter column: 2\n",
            "[['O' 'X' '-']\n",
            " ['X' 'O' 'X']\n",
            " ['-' '-' '-']]\n",
            "Enter row: 2\n",
            "Enter column: 2\n",
            "[['O' 'X' '-']\n",
            " ['X' 'O' 'X']\n",
            " ['-' '-' 'O']]\n",
            "O wins\n"
          ]
        }
      ],
      "source": [
        "import numpy as np\n",
        "\n",
        "board=np.array([['-','-','-'],['-','-','-'],['-','-','-']])\n",
        "\n",
        "current_player='X'\n",
        "flag=0\n",
        "\n",
        "def check_win():\n",
        "    for i in range(3):\n",
        "        if board[i][0] == board[i][1] == board[i][2] != '-':\n",
        "            return True\n",
        "    for i in range(3):\n",
        "        if board[0][i] == board[1][i] == board[2][i] != '-':\n",
        "            return True\n",
        "    if board[0][0] == board[1][1] == board[2][2] != '-':\n",
        "        return True\n",
        "    if board[0][2] == board[1][1] == board[2][0] != '-':\n",
        "        return True\n",
        "    return False\n",
        "\n",
        "def tic_tac_toe():\n",
        "    n=0\n",
        "    print(board)\n",
        "    while n<9:\n",
        "        if n%2==0:\n",
        "            current_player='X'\n",
        "        else :\n",
        "            current_player='O'\n",
        "\n",
        "        row = int(input(\"Enter row: \"))\n",
        "        col = int(input(\"Enter column: \"))\n",
        "\n",
        "        if(board[row][col]=='-'):\n",
        "            board[row][col]=current_player\n",
        "            print(board)\n",
        "            flag=check_win();\n",
        "            if flag==1:\n",
        "                print(current_player+' wins')\n",
        "                break\n",
        "            else:\n",
        "                n=n+1\n",
        "        else :\n",
        "            print(\"Invalid Position\")\n",
        "\n",
        "    if n==9:\n",
        "        print(\"Draw\")\n",
        "\n",
        "tic_tac_toe()2\n",
        "\n",
        "\n"
      ]
    },
    {
      "cell_type": "code",
      "source": [],
      "metadata": {
        "id": "1VZL5uMadjjy"
      },
      "execution_count": null,
      "outputs": []
    }
  ]
}