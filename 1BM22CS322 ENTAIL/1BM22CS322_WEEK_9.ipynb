{
  "nbformat": 4,
  "nbformat_minor": 0,
  "metadata": {
    "colab": {
      "provenance": []
    },
    "kernelspec": {
      "name": "python3",
      "display_name": "Python 3"
    },
    "language_info": {
      "name": "python"
    }
  },
  "cells": [
    {
      "cell_type": "code",
      "execution_count": 5,
      "metadata": {
        "colab": {
          "base_uri": "https://localhost:8080/"
        },
        "id": "nZDvFae_ehiS",
        "outputId": "dff72b47-d7bd-4726-d87d-e0c6b0bb34d7"
      },
      "outputs": [
        {
          "output_type": "stream",
          "name": "stdout",
          "text": [
            "Enter the propositions (symbols) separated by spaces: A B C\n",
            "Enter the number of statements in the knowledge base: 2\n",
            "Enter statement 1 in the knowledge base: A or C\n",
            "Enter statement 2 in the knowledge base: A or not C\n",
            "Enter the query: A or B\n",
            "KB entails the query.\n",
            "Models where KB entails query:\n",
            "{'A': True, 'B': False, 'C': False}\n",
            "{'A': True, 'B': False, 'C': True}\n",
            "{'A': True, 'B': True, 'C': False}\n",
            "{'A': True, 'B': True, 'C': True}\n",
            "--------------\n",
            "Varun vinod(1BMS22CS322)\n"
          ]
        }
      ],
      "source": [
        "from itertools import product\n",
        "\n",
        "\n",
        "# Define a function to evaluate a propositional expression\n",
        "def evaluate(expr, model):\n",
        "    \"\"\"\n",
        "    Evaluates the given expression based on the values in the model.\n",
        "    \"\"\"\n",
        "    for var, val in model.items():\n",
        "        expr = expr.replace(var, str(val))\n",
        "    return eval(expr)\n",
        "\n",
        "\n",
        "# Define the truth-table enumeration algorithm\n",
        "def truth_table_entails(KB, query, symbols):\n",
        "    \"\"\"\n",
        "    Checks if KB entails query using truth-table enumeration.\n",
        "    KB: list of propositional expressions (strings)\n",
        "    query: propositional expression (string)\n",
        "    symbols: list of symbols (propositions) in the KB and query\n",
        "    \"\"\"\n",
        "    # Generate all possible truth assignments\n",
        "    assignments = list(product([False, True], repeat=len(symbols)))\n",
        "\n",
        "\n",
        "    entailing_models = []\n",
        "\n",
        "\n",
        "    # Iterate over each assignment to check entailment\n",
        "    for assignment in assignments:\n",
        "        model = dict(zip(symbols, assignment))\n",
        "\n",
        "\n",
        "        # Check if KB is true in this model\n",
        "        KB_is_true = all(evaluate(expr, model) for expr in KB)\n",
        "\n",
        "\n",
        "        # If KB is true, check if query is also true\n",
        "        if KB_is_true:\n",
        "            query_is_true = evaluate(query, model)\n",
        "            if query_is_true:\n",
        "                entailing_models.append(model)  # Store the model\n",
        "            else:\n",
        "                return False, []\n",
        "               # Found a model where KB is true but query is false\n",
        "\n",
        "\n",
        "    return True, entailing_models  # KB entails query if no counterexample was found\n",
        "\n",
        "\n",
        "# Get input from the user\n",
        "symbols = input(\"Enter the propositions (symbols) separated by spaces: \").split()\n",
        "KB = []\n",
        "n = int(input(\"Enter the number of statements in the knowledge base: \"))\n",
        "\n",
        "\n",
        "for i in range(n):\n",
        "    expr = input(f\"Enter statement {i + 1} in the knowledge base: \")\n",
        "    KB.append(expr)\n",
        "\n",
        "\n",
        "query = input(\"Enter the query: \")\n",
        "\n",
        "\n",
        "# Check entailment\n",
        "result, models = truth_table_entails(KB, query, symbols)\n",
        "if truth_table_entails(KB, query, symbols):\n",
        "    print(\"KB entails the query.\")\n",
        "    print(\"Models where KB entails query:\")\n",
        "    for model in models:\n",
        "        print(model)\n",
        "else:\n",
        "    print(\"KB does not entail the query.\")\n",
        "\n",
        "print(\"--------------\")\n",
        "print(\"Varun vinod(1BMS22CS322)\")"
      ]
    }
  ]
}